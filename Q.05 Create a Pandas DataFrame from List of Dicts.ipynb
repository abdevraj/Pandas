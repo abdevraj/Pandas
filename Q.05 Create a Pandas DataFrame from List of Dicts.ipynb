{
 "cells": [
  {
   "cell_type": "markdown",
   "id": "80ac0b9b",
   "metadata": {},
   "source": [
    "### Q.5 Create a Pandas DataFrame from List of Dicts"
   ]
  },
  {
   "cell_type": "code",
   "execution_count": 1,
   "id": "7a457590",
   "metadata": {},
   "outputs": [],
   "source": [
    "import pandas as pd"
   ]
  },
  {
   "cell_type": "code",
   "execution_count": 2,
   "id": "13d02f5e",
   "metadata": {},
   "outputs": [],
   "source": [
    "dict1 = {\n",
    "    \"Name\":['AB Devraj', 'Aditya ', 'Sonu', 'AB'],\n",
    "    \"Marks\":[86,57,58,97],\n",
    "    \"City\":['rampur', 'jaipur', 'dilli', 'mabbi'] \n",
    "}"
   ]
  },
  {
   "cell_type": "code",
   "execution_count": 3,
   "id": "d5291912",
   "metadata": {},
   "outputs": [],
   "source": [
    "df = pd.DataFrame(dict1)"
   ]
  },
  {
   "cell_type": "code",
   "execution_count": 4,
   "id": "e1e28dc5",
   "metadata": {},
   "outputs": [
    {
     "data": {
      "text/html": [
       "<div>\n",
       "<style scoped>\n",
       "    .dataframe tbody tr th:only-of-type {\n",
       "        vertical-align: middle;\n",
       "    }\n",
       "\n",
       "    .dataframe tbody tr th {\n",
       "        vertical-align: top;\n",
       "    }\n",
       "\n",
       "    .dataframe thead th {\n",
       "        text-align: right;\n",
       "    }\n",
       "</style>\n",
       "<table border=\"1\" class=\"dataframe\">\n",
       "  <thead>\n",
       "    <tr style=\"text-align: right;\">\n",
       "      <th></th>\n",
       "      <th>Name</th>\n",
       "      <th>Marks</th>\n",
       "      <th>City</th>\n",
       "    </tr>\n",
       "  </thead>\n",
       "  <tbody>\n",
       "    <tr>\n",
       "      <th>0</th>\n",
       "      <td>AB Devraj</td>\n",
       "      <td>86</td>\n",
       "      <td>rampur</td>\n",
       "    </tr>\n",
       "    <tr>\n",
       "      <th>1</th>\n",
       "      <td>Aditya</td>\n",
       "      <td>57</td>\n",
       "      <td>jaipur</td>\n",
       "    </tr>\n",
       "    <tr>\n",
       "      <th>2</th>\n",
       "      <td>Sonu</td>\n",
       "      <td>58</td>\n",
       "      <td>dilli</td>\n",
       "    </tr>\n",
       "    <tr>\n",
       "      <th>3</th>\n",
       "      <td>AB</td>\n",
       "      <td>97</td>\n",
       "      <td>mabbi</td>\n",
       "    </tr>\n",
       "  </tbody>\n",
       "</table>\n",
       "</div>"
      ],
      "text/plain": [
       "        Name  Marks    City\n",
       "0  AB Devraj     86  rampur\n",
       "1    Aditya      57  jaipur\n",
       "2       Sonu     58   dilli\n",
       "3         AB     97   mabbi"
      ]
     },
     "execution_count": 4,
     "metadata": {},
     "output_type": "execute_result"
    }
   ],
   "source": [
    "df"
   ]
  },
  {
   "cell_type": "code",
   "execution_count": 10,
   "id": "86de7ca7",
   "metadata": {},
   "outputs": [],
   "source": [
    "data1 = [['Geeks', 5, 'For', 6, 'geeks', 7],\n",
    "        ['Geeks',10, 'For', 20, 'geeks', 30]] "
   ]
  },
  {
   "cell_type": "code",
   "execution_count": 12,
   "id": "f86d14ac",
   "metadata": {},
   "outputs": [
    {
     "data": {
      "text/html": [
       "<div>\n",
       "<style scoped>\n",
       "    .dataframe tbody tr th:only-of-type {\n",
       "        vertical-align: middle;\n",
       "    }\n",
       "\n",
       "    .dataframe tbody tr th {\n",
       "        vertical-align: top;\n",
       "    }\n",
       "\n",
       "    .dataframe thead th {\n",
       "        text-align: right;\n",
       "    }\n",
       "</style>\n",
       "<table border=\"1\" class=\"dataframe\">\n",
       "  <thead>\n",
       "    <tr style=\"text-align: right;\">\n",
       "      <th></th>\n",
       "      <th>0</th>\n",
       "      <th>1</th>\n",
       "      <th>2</th>\n",
       "      <th>3</th>\n",
       "      <th>4</th>\n",
       "      <th>5</th>\n",
       "    </tr>\n",
       "  </thead>\n",
       "  <tbody>\n",
       "    <tr>\n",
       "      <th>0</th>\n",
       "      <td>Geeks</td>\n",
       "      <td>5</td>\n",
       "      <td>For</td>\n",
       "      <td>6</td>\n",
       "      <td>geeks</td>\n",
       "      <td>7</td>\n",
       "    </tr>\n",
       "    <tr>\n",
       "      <th>1</th>\n",
       "      <td>Geeks</td>\n",
       "      <td>10</td>\n",
       "      <td>For</td>\n",
       "      <td>20</td>\n",
       "      <td>geeks</td>\n",
       "      <td>30</td>\n",
       "    </tr>\n",
       "  </tbody>\n",
       "</table>\n",
       "</div>"
      ],
      "text/plain": [
       "       0   1    2   3      4   5\n",
       "0  Geeks   5  For   6  geeks   7\n",
       "1  Geeks  10  For  20  geeks  30"
      ]
     },
     "execution_count": 12,
     "metadata": {},
     "output_type": "execute_result"
    }
   ],
   "source": [
    "pd.DataFrame(data1)"
   ]
  },
  {
   "cell_type": "code",
   "execution_count": 14,
   "id": "f989df82",
   "metadata": {},
   "outputs": [
    {
     "data": {
      "text/html": [
       "<div>\n",
       "<style scoped>\n",
       "    .dataframe tbody tr th:only-of-type {\n",
       "        vertical-align: middle;\n",
       "    }\n",
       "\n",
       "    .dataframe tbody tr th {\n",
       "        vertical-align: top;\n",
       "    }\n",
       "\n",
       "    .dataframe thead th {\n",
       "        text-align: right;\n",
       "    }\n",
       "</style>\n",
       "<table border=\"1\" class=\"dataframe\">\n",
       "  <thead>\n",
       "    <tr style=\"text-align: right;\">\n",
       "      <th></th>\n",
       "      <th>Geeks</th>\n",
       "      <th>For</th>\n",
       "      <th>geeks</th>\n",
       "    </tr>\n",
       "  </thead>\n",
       "  <tbody>\n",
       "    <tr>\n",
       "      <th>0</th>\n",
       "      <td>[1, 2, 3]</td>\n",
       "      <td>using</td>\n",
       "      <td>list</td>\n",
       "    </tr>\n",
       "    <tr>\n",
       "      <th>1</th>\n",
       "      <td>10</td>\n",
       "      <td>20</td>\n",
       "      <td>30</td>\n",
       "    </tr>\n",
       "  </tbody>\n",
       "</table>\n",
       "</div>"
      ],
      "text/plain": [
       "       Geeks    For geeks\n",
       "0  [1, 2, 3]  using  list\n",
       "1         10     20    30"
      ]
     },
     "execution_count": 14,
     "metadata": {},
     "output_type": "execute_result"
    }
   ],
   "source": [
    "data = [{'Geeks': [1,2,3], 'For': 'using', 'geeks': 'list'},\n",
    "        {'Geeks':10, 'For': 20, 'geeks': 30}] \n",
    "    \n",
    "# Creates DataFrame. \n",
    "df = pd.DataFrame(data) \n",
    "    \n",
    "# Print the data \n",
    "df "
   ]
  },
  {
   "cell_type": "code",
   "execution_count": null,
   "id": "4ef79d3d",
   "metadata": {},
   "outputs": [],
   "source": []
  }
 ],
 "metadata": {
  "kernelspec": {
   "display_name": "Python 3",
   "language": "python",
   "name": "python3"
  },
  "language_info": {
   "codemirror_mode": {
    "name": "ipython",
    "version": 3
   },
   "file_extension": ".py",
   "mimetype": "text/x-python",
   "name": "python",
   "nbconvert_exporter": "python",
   "pygments_lexer": "ipython3",
   "version": "3.8.8"
  }
 },
 "nbformat": 4,
 "nbformat_minor": 5
}
